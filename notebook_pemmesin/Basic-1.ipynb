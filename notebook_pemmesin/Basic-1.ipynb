{
 "cells": [
  {
   "cell_type": "code",
   "execution_count": 41,
   "id": "fcb01740-97c3-4080-b01c-1d68e93f2e4f",
   "metadata": {},
   "outputs": [
    {
     "name": "stdout",
     "output_type": "stream",
     "text": [
      "Hello Wolrd!!!\n",
      "test\n"
     ]
    }
   ],
   "source": [
    "# mengenal fungsi print(); , tanda kurung buka; , tanda kutip; , kalimat 1 baris:HELLO WORLD!;\n",
    "# fungsi beberapa tanda kutip lain; , tanda kurung tutup.\n",
    "\n",
    "print(\"Hello Wolrd!!!\")\n",
    "print(\"test\")"
   ]
  },
  {
   "cell_type": "code",
   "execution_count": 42,
   "id": "b2188855-e255-4b21-85a7-08dcd1c131b7",
   "metadata": {},
   "outputs": [
    {
     "name": "stdout",
     "output_type": "stream",
     "text": [
      "Hello, Python!!!\n",
      "Najma\n",
      "Najma\n"
     ]
    }
   ],
   "source": [
    "# cetak kalimat \"Hello, Python!!\", cetak nama pertama, cetak nama pertama tanpa petik, liat perbedaannya.\n",
    "\n",
    "print(\"Hello, Python!!!\")\n",
    "print(\"Najma\")\n",
    "print('Najma')"
   ]
  },
  {
   "cell_type": "code",
   "execution_count": 43,
   "id": "ee4c61e3-b502-4476-b1d5-ccb82d04fb0a",
   "metadata": {},
   "outputs": [
    {
     "name": "stdout",
     "output_type": "stream",
     "text": [
      "\n",
      "Bad Omens \n",
      " Noah Sebastian\n",
      "Sklipnot \t Corey Taylor\n",
      "Bad Omens \"Concrete Jugle\" \n",
      "\"\n",
      "one. two. three.\n",
      "Name Noah Sebastian\n",
      "satu dua tiga\n"
     ]
    }
   ],
   "source": [
    "# formatting special character\n",
    "#  '/' = karakter spesial = escaping nature, '\\n' = enter, '\\' = escaping karakter, 'print() = baris kosong'\n",
    "# 'print(\"xxxx\") print(\"yyyy\") = tdk boleh ada 2 print dlm 1 baris'\n",
    "\n",
    "print()\n",
    "print(\"Bad Omens \\n Noah Sebastian\")\n",
    "print(\"Sklipnot \\t Corey Taylor\")\n",
    "print(\"Bad Omens \\\"Concrete Jugle\\\" \")\n",
    "print(\"\\\"\")\n",
    "print(\"one.\", \"two.\", \"three.\")\n",
    "print(\"Name\", \"Noah\", end=\" \")\n",
    "print(\"Sebastian\")\n",
    "print(\"satu\", \"dua\", \"tiga\", sep=\" \")"
   ]
  },
  {
   "cell_type": "code",
   "execution_count": 44,
   "id": "524d308b-1ad4-4c8e-b792-f3d9871c27b0",
   "metadata": {},
   "outputs": [
    {
     "name": "stdout",
     "output_type": "stream",
     "text": [
      "Programming Essentials in\n",
      "Python\n",
      "\n",
      "\n",
      "Programming***Essentials***in...PythonPython\n"
     ]
    }
   ],
   "source": [
    "# print function\n",
    "\n",
    "# clue\n",
    "print(\"Programming\",\"Essentials\",\"in\")\n",
    "print(\"Python\")\n",
    "print(\"\\n\")\n",
    "# programming essentials in pyhton\n",
    "print(\"Programming\",\"Essentials\",\"in\", sep=\"***\", end=\"...\")\n",
    "print(\"Python\"*2)"
   ]
  },
  {
   "cell_type": "code",
   "execution_count": 45,
   "id": "b9fd7e6a-23ec-49f3-8e6c-78907a9c1869",
   "metadata": {},
   "outputs": [
    {
     "name": "stdout",
     "output_type": "stream",
     "text": [
      "    *        *        *    \n",
      "   * *      * *      * *   \n",
      "  *   *    *   *    *   *  \n",
      " *     *  *     *  *     * \n",
      "***   ******   ******   ***\n",
      "  *   *    *   *    *   *  \n",
      "  *   *    *   *    *   *  \n",
      "  *****    *****    *****  \n",
      "    *\n",
      "   * *\n",
      "  *   *\n",
      " *     *\n",
      "***   ***\n",
      "  *   *\n",
      "  *   *\n",
      "  *****\n",
      "    *\n",
      "   * *\n",
      "  *   *\n",
      " *     *\n",
      "***   ***\n",
      "  *   *\n",
      "  *   *\n",
      "  *****\n",
      "    *\n",
      "   * *\n",
      "  *   *\n",
      " *     *\n",
      "***   ***\n",
      "  *   *\n",
      "  *   *\n",
      "  *****\n",
      "    *\n",
      "   * *\n",
      "  *   *\n",
      " *     *\n",
      "***   ***\n",
      "  *   *\n",
      "  *   *\n",
      "  *****\n",
      "\n"
     ]
    }
   ],
   "source": [
    "# formating output\n",
    "\n",
    "#clue\n",
    "print(\"    *    \"*3)\n",
    "print(\"   * *   \"*3)\n",
    "print(\"  *   *  \"*3)\n",
    "print(\" *     * \"*3)\n",
    "print(\"***   ***\"*3)\n",
    "print(\"  *   *  \"*3)\n",
    "print(\"  *   *  \"*3)\n",
    "print(\"  *****  \"*3)\n",
    "\n",
    "# menurun\n",
    "print(\"    *\\n   * *\\n  *   *\\n *     *\\n***   ***\\n  *   *\\n  *   *\\n  *****\\n\"*4)"
   ]
  },
  {
   "cell_type": "code",
   "execution_count": 46,
   "id": "a866b429-6c06-4e89-88a2-9def7195e50b",
   "metadata": {},
   "outputs": [
    {
     "name": "stdout",
     "output_type": "stream",
     "text": [
      "33\n",
      "4\n",
      "<class 'str'>\n",
      "<class 'int'>\n",
      "\n",
      "\n",
      "5 mempunyai tipe <class 'int'>\n",
      "0.5 mempunyai tipe <class 'float'>\n",
      "\n",
      "\n",
      "10000000\n",
      "\n",
      "\n",
      "0.44\n",
      "22.0\n",
      "\n",
      "\n",
      "I'm Monty Python\n",
      "\n",
      "\n",
      "\"I'm\"\n",
      "\"\"learning\"\"\n",
      "\"\"\"Python\"\"\"\n",
      "\n",
      "\"I'm\"\n",
      "\"\"learning\"\"\n",
      "\"\"\"Python\"\"\"\n",
      "\n",
      "\n",
      "\n",
      "True\n",
      "False\n",
      "True\n",
      "False\n"
     ]
    }
   ],
   "source": [
    "# literal = notasi untuk mensimbolkan nilai, dapat berupa String, boolean maupun integer dan float (angka)\n",
    "\n",
    "# \"3\"*2 berarti mengulangi string \"3\" sebanyak 2 kali.\n",
    "print(\"3\"*2) \n",
    "print(2*2)\n",
    "\n",
    "# menghasilkan tipe dari code diatas\n",
    "print(type(\"3\"))\n",
    "print(type(2))\n",
    "\n",
    "print(\"\\n\")\n",
    "# integer vs float\n",
    "print(5, \"mempunyai tipe\", type(5))\n",
    "print(.5, \"mempunyai tipe\", type(.5))\n",
    "print(\"\\n\")\n",
    "# penulisan flaot dan integer\n",
    "# pemisahan digit dengan underscore(_)\n",
    "print(10_000_000)\n",
    "print(\"\\n\")\n",
    "# float dipisahkan dengan titik bukan koma\n",
    "print(.44)\n",
    "print(22.)\n",
    "print(\"\\n\")\n",
    "# string\n",
    "print(\"I'm Monty Python\")\n",
    "print(\"\\n\")\n",
    "print('\"I\\'m\"\\n\"\"learning\"\"\\n\"\"\"Python\"\"\"')\n",
    "\n",
    "print(\"\"\"\n",
    "\"I'm\"\n",
    "\"\"learning\"\"\n",
    "\\\"\"\"Python\"\"\\\"\n",
    "\"\"\")\n",
    "# boolean\n",
    "# logika = 1 bernilai benar/true, 0 bernilai false/salah\n",
    "print(\"\\n\")\n",
    "print(True)\n",
    "print(False)\n",
    "\n",
    "print(4>2)\n",
    "print(3>4)"
   ]
  },
  {
   "cell_type": "code",
   "execution_count": 47,
   "id": "2a47a742-4480-4784-b1af-58ee5d33bde4",
   "metadata": {},
   "outputs": [
    {
     "name": "stdout",
     "output_type": "stream",
     "text": [
      "8\n",
      "8.0\n",
      "8.0\n",
      "8.0\n",
      "\n",
      "\n",
      "3.3333333333333335\n",
      "3\n",
      "2.0\n",
      "2.0\n",
      "0\n",
      "4.0\n"
     ]
    }
   ],
   "source": [
    "# operator\n",
    "# pangkat\n",
    "print(2 ** 3)\n",
    "print(2 ** 3.)\n",
    "print(2. ** 3.)\n",
    "print(2. ** 3)\n",
    "print(\"\\n\")\n",
    "# pembagian & pembulatan = //\n",
    "# pembagian = /\n",
    "print(10 / 3)\n",
    "print(10 // 3)\n",
    "\n",
    "print(6 / 3.)\n",
    "print(6 // 3.)\n",
    "# pertambahan\n",
    "print(-4 + 4)\n",
    "print(-4. + 8)"
   ]
  },
  {
   "cell_type": "code",
   "execution_count": 48,
   "id": "1acf845c-4d56-443c-b70c-9307cc5e5865",
   "metadata": {},
   "outputs": [
    {
     "name": "stdout",
     "output_type": "stream",
     "text": [
      "17\n",
      "\n",
      "\n",
      "1\n",
      "3\n",
      "1\n",
      "256\n",
      "4\n",
      "256\n",
      "\n",
      "\n",
      "10.0\n"
     ]
    }
   ],
   "source": [
    "# urutan operator\n",
    "\n",
    "# perkalian dihitung dulu, baru ditambah\n",
    "print(2 + 3 *5)\n",
    "print(\"\\n\")\n",
    "# modulo/sisa bagi\n",
    "print(9 % 6 % 2)\n",
    "print(9 % 6)\n",
    "print(3 % 2)\n",
    "\n",
    "print(2 ** 2 ** 3)\n",
    "print(2 ** 2)\n",
    "print(2 ** 8)\n",
    "\n",
    "print(\"\\n\")\n",
    "# 25 % 13 menghasilkan 12\n",
    "# 12 + 100 menghasilkan 112\n",
    "# 2 * 13 menghasilkan 26\n",
    "# 5 * 112 menghasilkan 560\n",
    "# 560 / 26 menghasilkan 21.53846153846154\n",
    "# 21.53846153846154 // 2 menghasilkan 10\n",
    "print((5 * ((25 % 13)+100) / (2 * 13)) // 2)"
   ]
  },
  {
   "cell_type": "code",
   "execution_count": 49,
   "id": "e93f8e6e-87d1-4eef-9e86-7b436d1dd57a",
   "metadata": {},
   "outputs": [
    {
     "name": "stdout",
     "output_type": "stream",
     "text": [
      "1\n",
      "\n",
      "\n",
      "c =  3.605551275463989\n",
      "\n",
      "\n",
      "Darjo: 3, Darno: 5, Waginem: 6\n",
      "Total Apel: 14\n",
      "\n",
      "\n",
      "7.38 1 mil adalah 11.88 kilometer\n",
      "12.25 1 kilometer adalah 7.61 mil\n",
      "\n",
      "\n",
      "y = -1.0\n",
      "y = 3.0\n",
      "y = -9.0\n"
     ]
    }
   ],
   "source": [
    "# variabel\n",
    "var = 1\n",
    "print(var)\n",
    "print(\"\\n\")\n",
    "\n",
    "# rumus pythagoras\n",
    "a=2.\n",
    "b=3.\n",
    "c=(a**2 + b**2) ** 0.5\n",
    "print(\"c = \", c)\n",
    "print(\"\\n\")\n",
    "\n",
    "# latihan 1\n",
    "Darjo = 3\n",
    "Darno = 5\n",
    "Waginem = 6 \n",
    "print(f\"Darjo: {Darjo}, Darno: {Darno}, Waginem: {Waginem}\")\n",
    "Totalapel = Darjo + Darno + Wagimen\n",
    "print(f\"Total Apel: {Totalapel}\")\n",
    "print(\"\\n\")\n",
    "\n",
    "# latihan 2 = a simple converter\n",
    "# mil & kilometer = satuan panjang. 1 mill memliki panjang sekitar 1.61 km\n",
    "kilometer = 12.25\n",
    "mil = 7.38\n",
    "\n",
    "miles_to_kilometers = mil * 1.61\n",
    "kilometers_to_miles = kilometer / 1.61\n",
    "\n",
    "print(mil, \"1 mil adalah\", round(miles_to_kilometers, 2), \"kilometer\")\n",
    "print(kilometer, \"1 kilometer adalah\", round(kilometers_to_miles, 2), \"mil\")\n",
    "print(\"\\n\")\n",
    "\n",
    "# latihan 3 = operators & expressions\n",
    "# Hardcode your test data here\n",
    "# x = 0  # Uji dengan data x = 0, x = 1, dan x = -1\n",
    "# # Convert x to float\n",
    "# x = float(x)\n",
    "# # Calculate the value of y using the given equation\n",
    "# y = 3 * x**3 - 2 * x**2 + 3 * x - 1\n",
    "# # Print the result\n",
    "# print(\"y =\", y)\n",
    "\n",
    "# test data : \n",
    "x = 0\n",
    "x = float(x)\n",
    "y = 3 * x**3 - 2 * x**2 + 3 * x - 1\n",
    "print(\"y =\", y)\n",
    "\n",
    "x = 1\n",
    "x = float(x)\n",
    "y = 3 * x**3 - 2 * x**2 + 3 * x - 1\n",
    "print(\"y =\", y)\n",
    "\n",
    "x = -1\n",
    "x = float(x)\n",
    "y = 3 * x**3 - 2 * x**2 + 3 * x - 1\n",
    "print(\"y =\", y)\n"
   ]
  },
  {
   "cell_type": "code",
   "execution_count": 50,
   "id": "03ef2ddf-6b1e-4d94-aada-d1311b1e85d8",
   "metadata": {},
   "outputs": [
    {
     "name": "stdout",
     "output_type": "stream",
     "text": [
      "+----------+\n",
      "|          |\n",
      "|          |\n",
      "|          |\n",
      "|          |\n",
      "|          |\n",
      "+----------+\n"
     ]
    }
   ],
   "source": [
    "# replication = membuat bangun datar persegi \n",
    "print(\"+\" + 10*\"-\" + \"+\")\n",
    "print((\"|\" + 10*\" \" + \"|\\n\") * 5, end=\"\")\n",
    "print(\"+\" + 10*\"-\" + \"+\")"
   ]
  },
  {
   "cell_type": "code",
   "execution_count": 51,
   "id": "a5761c85-b0d0-4e0c-8ae7-39e7c473fca8",
   "metadata": {},
   "outputs": [
    {
     "name": "stdin",
     "output_type": "stream",
     "text": [
      "Masukan Angka :  4\n"
     ]
    },
    {
     "name": "stdout",
     "output_type": "stream",
     "text": [
      "Pangkat duanya adalah  16.0\n"
     ]
    }
   ],
   "source": [
    "# type casting = memasukkan angka\n",
    "angka = float(input(\"Masukan Angka : \"))\n",
    "print(\"Pangkat duanya adalah \", angka**2)"
   ]
  }
 ],
 "metadata": {
  "kernelspec": {
   "display_name": "Python 3 (ipykernel)",
   "language": "python",
   "name": "python3"
  },
  "language_info": {
   "codemirror_mode": {
    "name": "ipython",
    "version": 3
   },
   "file_extension": ".py",
   "mimetype": "text/x-python",
   "name": "python",
   "nbconvert_exporter": "python",
   "pygments_lexer": "ipython3",
   "version": "3.11.7"
  }
 },
 "nbformat": 4,
 "nbformat_minor": 5
}
