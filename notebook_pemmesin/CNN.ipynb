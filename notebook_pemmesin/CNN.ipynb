{
 "cells": [
  {
   "cell_type": "code",
   "execution_count": 9,
   "id": "e37d7e4a-ec69-4c80-b733-b8cddc36b961",
   "metadata": {},
   "outputs": [],
   "source": [
    "import os\n",
    "import numpy as np\n",
    "import matplotlib.pyplot as plt\n",
    "import seaborn as sns\n",
    "import torch\n",
    "import torch.nn as nn\n",
    "from torch.utils.data import DataLoader\n",
    "from torchvision import transforms, datasets\n",
    "import torch.nn.functional as F\n",
    "from sklearn.metrics import confusion_matrix\n",
    "from tqdm import tqdm"
   ]
  },
  {
   "cell_type": "code",
   "execution_count": 10,
   "id": "9ea2e2dd-21d0-4698-ac31-60a8b338b62c",
   "metadata": {},
   "outputs": [
    {
     "name": "stdout",
     "output_type": "stream",
     "text": [
      "this notebook is using Device: cpu\n"
     ]
    }
   ],
   "source": [
    "class Config: \n",
    "    def __init__(self):\n",
    "        self.ROOT_DATA_DIR = \"fashionMNISTDir\"\n",
    "        self.epochs = 10\n",
    "        self.batch_size = 32\n",
    "        self.learning_rate = 0.01\n",
    "        self.image_size = (28, 28)\n",
    "        self.DEVICE = \"cuda\" if torch.cuda.is_available() else \"cpu\"\n",
    "        print(f\"this notebook is using Device: {self.DEVICE}\")\n",
    "        self.SEED = 2022\n",
    "\n",
    "config = Config()\n"
   ]
  },
  {
   "cell_type": "code",
   "execution_count": 11,
   "id": "bb5c43f2-c822-4a06-b28a-8a803749f4c9",
   "metadata": {},
   "outputs": [
    {
     "name": "stdout",
     "output_type": "stream",
     "text": [
      "Downloading http://fashion-mnist.s3-website.eu-central-1.amazonaws.com/train-images-idx3-ubyte.gz\n",
      "Downloading http://fashion-mnist.s3-website.eu-central-1.amazonaws.com/train-images-idx3-ubyte.gz to fashionMNISTDir\\FashionMNIST\\raw\\train-images-idx3-ubyte.gz\n"
     ]
    },
    {
     "name": "stderr",
     "output_type": "stream",
     "text": [
      "100%|██████████| 26421880/26421880 [00:16<00:00, 1574012.14it/s]\n"
     ]
    },
    {
     "name": "stdout",
     "output_type": "stream",
     "text": [
      "Extracting fashionMNISTDir\\FashionMNIST\\raw\\train-images-idx3-ubyte.gz to fashionMNISTDir\\FashionMNIST\\raw\n",
      "\n",
      "Downloading http://fashion-mnist.s3-website.eu-central-1.amazonaws.com/train-labels-idx1-ubyte.gz\n",
      "Downloading http://fashion-mnist.s3-website.eu-central-1.amazonaws.com/train-labels-idx1-ubyte.gz to fashionMNISTDir\\FashionMNIST\\raw\\train-labels-idx1-ubyte.gz\n"
     ]
    },
    {
     "name": "stderr",
     "output_type": "stream",
     "text": [
      "100%|██████████| 29515/29515 [00:00<00:00, 41172.47it/s]\n"
     ]
    },
    {
     "name": "stdout",
     "output_type": "stream",
     "text": [
      "Extracting fashionMNISTDir\\FashionMNIST\\raw\\train-labels-idx1-ubyte.gz to fashionMNISTDir\\FashionMNIST\\raw\n",
      "\n",
      "Downloading http://fashion-mnist.s3-website.eu-central-1.amazonaws.com/t10k-images-idx3-ubyte.gz\n",
      "Downloading http://fashion-mnist.s3-website.eu-central-1.amazonaws.com/t10k-images-idx3-ubyte.gz to fashionMNISTDir\\FashionMNIST\\raw\\t10k-images-idx3-ubyte.gz\n"
     ]
    },
    {
     "name": "stderr",
     "output_type": "stream",
     "text": [
      "100%|██████████| 4422102/4422102 [00:25<00:00, 174710.00it/s]\n"
     ]
    },
    {
     "name": "stdout",
     "output_type": "stream",
     "text": [
      "Extracting fashionMNISTDir\\FashionMNIST\\raw\\t10k-images-idx3-ubyte.gz to fashionMNISTDir\\FashionMNIST\\raw\n",
      "\n",
      "Downloading http://fashion-mnist.s3-website.eu-central-1.amazonaws.com/t10k-labels-idx1-ubyte.gz\n",
      "Downloading http://fashion-mnist.s3-website.eu-central-1.amazonaws.com/t10k-labels-idx1-ubyte.gz to fashionMNISTDir\\FashionMNIST\\raw\\t10k-labels-idx1-ubyte.gz\n"
     ]
    },
    {
     "name": "stderr",
     "output_type": "stream",
     "text": [
      "100%|██████████| 5148/5148 [00:00<?, ?it/s]\n"
     ]
    },
    {
     "name": "stdout",
     "output_type": "stream",
     "text": [
      "Extracting fashionMNISTDir\\FashionMNIST\\raw\\t10k-labels-idx1-ubyte.gz to fashionMNISTDir\\FashionMNIST\\raw\n",
      "\n"
     ]
    }
   ],
   "source": [
    "train_data=datasets.FashionMNIST(\n",
    "    root=config.ROOT_DATA_DIR,\n",
    "    train=True,\n",
    "    download= True,\n",
    "    transform= transforms.ToTensor()\n",
    "    \n",
    ")\n",
    "\n",
    "\n",
    "test_data=datasets.FashionMNIST(\n",
    "    root=config.ROOT_DATA_DIR,\n",
    "    train=False,\n",
    "    download= True,\n",
    "    transform= transforms.ToTensor()\n",
    "    \n",
    ")"
   ]
  },
  {
   "cell_type": "code",
   "execution_count": 12,
   "id": "166e4928-3ee3-4e06-a82f-0942e5877a90",
   "metadata": {},
   "outputs": [
    {
     "data": {
      "text/plain": [
       "torch.Size([60000, 28, 28])"
      ]
     },
     "execution_count": 12,
     "metadata": {},
     "output_type": "execute_result"
    }
   ],
   "source": [
    "train_data.data.shape"
   ]
  },
  {
   "cell_type": "code",
   "execution_count": 13,
   "id": "3b7a06eb-3ee4-4db1-9242-ed3dc4cd6b24",
   "metadata": {},
   "outputs": [
    {
     "data": {
      "text/plain": [
       "{'T-shirt/top': 0,\n",
       " 'Trouser': 1,\n",
       " 'Pullover': 2,\n",
       " 'Dress': 3,\n",
       " 'Coat': 4,\n",
       " 'Sandal': 5,\n",
       " 'Shirt': 6,\n",
       " 'Sneaker': 7,\n",
       " 'Bag': 8,\n",
       " 'Ankle boot': 9}"
      ]
     },
     "execution_count": 13,
     "metadata": {},
     "output_type": "execute_result"
    }
   ],
   "source": [
    "train_data.class_to_idx"
   ]
  },
  {
   "cell_type": "code",
   "execution_count": 14,
   "id": "7504ad90-eb23-4ca9-ba45-90c675d8d9d6",
   "metadata": {},
   "outputs": [
    {
     "data": {
      "text/plain": [
       "torch.Size([60000])"
      ]
     },
     "execution_count": 14,
     "metadata": {},
     "output_type": "execute_result"
    }
   ],
   "source": [
    "train_data.targets.shape"
   ]
  },
  {
   "cell_type": "code",
   "execution_count": 15,
   "id": "c57af587-3226-423c-95ac-018e6d85eda0",
   "metadata": {},
   "outputs": [
    {
     "data": {
      "text/plain": [
       "{'T-shirt/top': 0,\n",
       " 'Trouser': 1,\n",
       " 'Pullover': 2,\n",
       " 'Dress': 3,\n",
       " 'Coat': 4,\n",
       " 'Sandal': 5,\n",
       " 'Shirt': 6,\n",
       " 'Sneaker': 7,\n",
       " 'Bag': 8,\n",
       " 'Ankle boot': 9}"
      ]
     },
     "execution_count": 15,
     "metadata": {},
     "output_type": "execute_result"
    }
   ],
   "source": [
    "given_label_map=train_data.class_to_idx\n",
    "given_label_map"
   ]
  },
  {
   "cell_type": "code",
   "execution_count": 16,
   "id": "4ec5db40-836b-4e45-a885-59e8294f7a8b",
   "metadata": {},
   "outputs": [
    {
     "data": {
      "text/plain": [
       "{'T-shirt/top': 0,\n",
       " 'Trouser': 1,\n",
       " 'Pullover': 2,\n",
       " 'Dress': 3,\n",
       " 'Coat': 4,\n",
       " 'Sandal': 5,\n",
       " 'Shirt': 6,\n",
       " 'Sneaker': 7,\n",
       " 'Bag': 8,\n",
       " 'Ankle boot': 9}"
      ]
     },
     "execution_count": 16,
     "metadata": {},
     "output_type": "execute_result"
    }
   ],
   "source": [
    "label_map={ key:val for key,val in given_label_map.items()}\n",
    "label_map"
   ]
  },
  {
   "cell_type": "code",
   "execution_count": 17,
   "id": "b318df4c-cf27-4201-9f2c-68dbd1f314de",
   "metadata": {},
   "outputs": [
    {
     "data": {
      "text/plain": [
       "{0: 'T-shirt/top',\n",
       " 1: 'Trouser',\n",
       " 2: 'Pullover',\n",
       " 3: 'Dress',\n",
       " 4: 'Coat',\n",
       " 5: 'Sandal',\n",
       " 6: 'Shirt',\n",
       " 7: 'Sneaker',\n",
       " 8: 'Bag',\n",
       " 9: 'Ankle boot'}"
      ]
     },
     "execution_count": 17,
     "metadata": {},
     "output_type": "execute_result"
    }
   ],
   "source": [
    "label_map={ val:key for key,val in given_label_map.items()}\n",
    "label_map"
   ]
  },
  {
   "cell_type": "code",
   "execution_count": 18,
   "id": "6261af7e-b8c2-44e8-89b2-6f7e460e4571",
   "metadata": {},
   "outputs": [],
   "source": [
    "def view_sample_img(data,index,label_map) : \n",
    "  plt.imshow(data.data[index],cmap=\"gray\")\n",
    "  plt.title(f\" data_label: {label_map[data.targets[index].item()]}\")\n",
    "  plt.axis(\"off\")"
   ]
  },
  {
   "cell_type": "code",
   "execution_count": 19,
   "id": "1b88edc2-56e3-4c60-9831-bd0092b83541",
   "metadata": {},
   "outputs": [
    {
     "data": {
      "image/png": "[encoded data removed]",
      "text/plain": [
       "<Figure size 640x480 with 1 Axes>"
      ]
     },
     "metadata": {},
     "output_type": "display_data"
    }
   ],
   "source": [
    "view_sample_img(train_data,0  ,label_map)"
   ]
  },
  {
   "cell_type": "code",
   "execution_count": 20,
   "id": "603b176f-b774-4f27-9dfe-207b1cc277f3",
   "metadata": {},
   "outputs": [],
   "source": [
    "#create a dataLoader - it will help you pass the data batch by batch data and n\n",
    "train_data_loader = DataLoader(\n",
    "    dataset = train_data,\n",
    "    batch_size=config.batch_size,\n",
    "    shuffle=True\n",
    ")\n",
    "\n",
    "\n",
    "test_data_loader = DataLoader(\n",
    "    dataset = test_data,\n",
    "    batch_size=config.batch_size,\n",
    "    shuffle=False\n",
    ")"
   ]
  },
  {
   "cell_type": "code",
   "execution_count": 21,
   "id": "a0ea326c-eac0-4d81-8ffe-05264fae1101",
   "metadata": {},
   "outputs": [
    {
     "name": "stdout",
     "output_type": "stream",
     "text": [
      "torch.Size([32, 1, 28, 28])\n",
      "torch.Size([32])\n",
      "torch.Size([32, 1, 28, 28])\n",
      "torch.Size([32])\n"
     ]
    }
   ],
   "source": [
    "for images,labels in test_data_loader:\n",
    "  print(images.shape)\n",
    "  print(labels.shape)\n",
    "  break\n",
    "\n",
    "for images,labels in train_data_loader:\n",
    "  print(images.shape)\n",
    "  print(labels.shape)\n",
    "  break\n",
    "     "
   ]
  },
  {
   "cell_type": "code",
   "execution_count": 22,
   "id": "81d7a2b2-7f59-4acf-ab7d-d8e04d77bc42",
   "metadata": {},
   "outputs": [
    {
     "data": {
      "text/plain": [
       "torch.Size([1, 28, 28])"
      ]
     },
     "execution_count": 22,
     "metadata": {},
     "output_type": "execute_result"
    }
   ],
   "source": [
    "images[0].shape"
   ]
  },
  {
   "cell_type": "code",
   "execution_count": 23,
   "id": "db90ea75-1faf-41ce-bcf3-9dcbb28d9c02",
   "metadata": {},
   "outputs": [
    {
     "data": {
      "text/plain": [
       "torch.Size([28, 28])"
      ]
     },
     "execution_count": 23,
     "metadata": {},
     "output_type": "execute_result"
    }
   ],
   "source": [
    "images[0].squeeze().shape"
   ]
  },
  {
   "cell_type": "code",
   "execution_count": 24,
   "id": "d6e17476-74aa-4e28-9b9a-7202569d0c46",
   "metadata": {},
   "outputs": [
    {
     "data": {
      "text/plain": [
       "torch.Size([1, 28, 28])"
      ]
     },
     "execution_count": 24,
     "metadata": {},
     "output_type": "execute_result"
    }
   ],
   "source": [
    "images[0].shape"
   ]
  },
  {
   "cell_type": "code",
   "execution_count": 25,
   "id": "7a67e455-0872-4c4c-b9fa-d0d99b06f024",
   "metadata": {},
   "outputs": [
    {
     "data": {
      "text/plain": [
       "array([[0.        , 0.        , 0.        , 0.        , 0.        ,\n",
       "        0.        , 0.        , 0.        , 0.00392157, 0.00784314,\n",
       "        0.        , 0.        , 0.21568628, 0.20784314, 0.24313726,\n",
       "        0.20784314, 0.14509805, 0.        , 0.        , 0.00784314,\n",
       "        0.        , 0.        , 0.        , 0.        , 0.        ,\n",
       "        0.        , 0.        , 0.        ],\n",
       "       [0.        , 0.        , 0.        , 0.        , 0.        ,\n",
       "        0.        , 0.01176471, 0.        , 0.        , 0.        ,\n",
       "        0.        , 0.40392157, 0.9411765 , 0.83137256, 0.81960785,\n",
       "        0.7882353 , 0.81960785, 0.        , 0.        , 0.        ,\n",
       "        0.        , 0.        , 0.00392157, 0.        , 0.        ,\n",
       "        0.        , 0.        , 0.        ],\n",
       "       [0.        , 0.        , 0.        , 0.        , 0.00392157,\n",
       "        0.        , 0.        , 0.        , 0.        , 0.25490198,\n",
       "        0.6039216 , 0.91764706, 0.80784315, 0.8509804 , 0.92941177,\n",
       "        0.87058824, 0.8352941 , 0.8666667 , 0.52156866, 0.15294118,\n",
       "        0.        , 0.        , 0.        , 0.00392157, 0.        ,\n",
       "        0.        , 0.        , 0.        ],\n",
       "       [0.        , 0.        , 0.        , 0.        , 0.        ,\n",
       "        0.        , 0.03921569, 0.5882353 , 0.7411765 , 0.8156863 ,\n",
       "        0.8039216 , 0.79607844, 0.7882353 , 0.7411765 , 0.78431374,\n",
       "        0.78431374, 0.8       , 0.8       , 0.81960785, 0.80784315,\n",
       "        0.83137256, 0.34901962, 0.        , 0.        , 0.00392157,\n",
       "        0.        , 0.        , 0.        ],\n",
       "       [0.        , 0.        , 0.        , 0.        , 0.        ,\n",
       "        0.        , 0.75686276, 0.8627451 , 0.77254903, 0.7607843 ,\n",
       "        0.75686276, 0.74509805, 0.78431374, 0.8392157 , 0.83137256,\n",
       "        0.87058824, 0.78039217, 0.7529412 , 0.7647059 , 0.7647059 ,\n",
       "        0.78431374, 0.87058824, 0.23529412, 0.        , 0.00784314,\n",
       "        0.        , 0.        , 0.        ],\n",
       "       [0.        , 0.        , 0.        , 0.        , 0.        ,\n",
       "        0.05098039, 0.7921569 , 0.7490196 , 0.7647059 , 0.76862746,\n",
       "        0.77254903, 0.76862746, 0.7529412 , 0.78431374, 0.7529412 ,\n",
       "        0.77254903, 0.7607843 , 0.78039217, 0.78039217, 0.78431374,\n",
       "        0.75686276, 0.827451  , 0.6392157 , 0.        , 0.        ,\n",
       "        0.        , 0.        , 0.        ],\n",
       "       [0.        , 0.        , 0.        , 0.        , 0.        ,\n",
       "        0.29803923, 0.8352941 , 0.7607843 , 0.75686276, 0.76862746,\n",
       "        0.75686276, 0.7607843 , 0.75686276, 0.76862746, 0.7607843 ,\n",
       "        0.75686276, 0.7607843 , 0.76862746, 0.7764706 , 0.77254903,\n",
       "        0.7607843 , 0.827451  , 0.7882353 , 0.        , 0.        ,\n",
       "        0.        , 0.        , 0.        ],\n",
       "       [0.        , 0.        , 0.        , 0.        , 0.        ,\n",
       "        0.53333336, 0.8352941 , 0.7921569 , 0.74509805, 0.7647059 ,\n",
       "        0.75686276, 0.75686276, 0.7490196 , 0.7647059 , 0.75686276,\n",
       "        0.75686276, 0.75686276, 0.7647059 , 0.76862746, 0.75686276,\n",
       "        0.7607843 , 0.8352941 , 0.7607843 , 0.02745098, 0.        ,\n",
       "        0.        , 0.        , 0.        ],\n",
       "       [0.        , 0.        , 0.        , 0.        , 0.        ,\n",
       "        0.61960787, 0.827451  , 0.80784315, 0.7529412 , 0.7411765 ,\n",
       "        0.7490196 , 0.7490196 , 0.7411765 , 0.75686276, 0.7529412 ,\n",
       "        0.7529412 , 0.7529412 , 0.75686276, 0.76862746, 0.74509805,\n",
       "        0.7921569 , 0.8235294 , 0.8039216 , 0.12941177, 0.        ,\n",
       "        0.        , 0.        , 0.        ],\n",
       "       [0.        , 0.        , 0.        , 0.        , 0.        ,\n",
       "        0.7607843 , 0.79607844, 0.8156863 , 0.7647059 , 0.7490196 ,\n",
       "        0.74509805, 0.7411765 , 0.7372549 , 0.75686276, 0.7411765 ,\n",
       "        0.7372549 , 0.7411765 , 0.7490196 , 0.7607843 , 0.7372549 ,\n",
       "        0.8156863 , 0.8       , 0.8117647 , 0.33333334, 0.        ,\n",
       "        0.        , 0.        , 0.        ],\n",
       "       [0.        , 0.        , 0.        , 0.        , 0.        ,\n",
       "        0.8627451 , 0.7764706 , 0.81960785, 0.7764706 , 0.7490196 ,\n",
       "        0.7490196 , 0.7490196 , 0.7372549 , 0.75686276, 0.7411765 ,\n",
       "        0.7490196 , 0.7529412 , 0.75686276, 0.76862746, 0.7411765 ,\n",
       "        0.827451  , 0.77254903, 0.81960785, 0.5137255 , 0.        ,\n",
       "        0.        , 0.        , 0.        ],\n",
       "       [0.        , 0.        , 0.        , 0.        , 0.        ,\n",
       "        0.93333334, 0.76862746, 0.8156863 , 0.7882353 , 0.7529412 ,\n",
       "        0.75686276, 0.7529412 , 0.7411765 , 0.7490196 , 0.7254902 ,\n",
       "        0.7529412 , 0.74509805, 0.75686276, 0.77254903, 0.7490196 ,\n",
       "        0.8156863 , 0.75686276, 0.8039216 , 0.68235296, 0.        ,\n",
       "        0.        , 0.        , 0.        ],\n",
       "       [0.        , 0.        , 0.        , 0.        , 0.08235294,\n",
       "        0.9529412 , 0.7647059 , 0.7921569 , 0.7921569 , 0.75686276,\n",
       "        0.76862746, 0.7607843 , 0.74509805, 0.7529412 , 0.7372549 ,\n",
       "        0.7529412 , 0.7490196 , 0.7529412 , 0.78039217, 0.7490196 ,\n",
       "        0.80784315, 0.76862746, 0.78431374, 0.8392157 , 0.        ,\n",
       "        0.        , 0.        , 0.        ],\n",
       "       [0.        , 0.        , 0.        , 0.        , 0.18431373,\n",
       "        0.9372549 , 0.7764706 , 0.79607844, 0.8156863 , 0.7764706 ,\n",
       "        0.76862746, 0.7529412 , 0.7372549 , 0.7529412 , 0.74509805,\n",
       "        0.75686276, 0.75686276, 0.7490196 , 0.78039217, 0.79607844,\n",
       "        0.85882354, 0.75686276, 0.78431374, 0.9254902 , 0.        ,\n",
       "        0.        , 0.        , 0.        ],\n",
       "       [0.        , 0.        , 0.        , 0.        , 0.3137255 ,\n",
       "        0.9411765 , 0.7647059 , 0.84705883, 0.76862746, 0.7921569 ,\n",
       "        0.7764706 , 0.7529412 , 0.74509805, 0.7529412 , 0.72156864,\n",
       "        0.7529412 , 0.76862746, 0.76862746, 0.77254903, 0.78431374,\n",
       "        0.7372549 , 0.8235294 , 0.7647059 , 0.9372549 , 0.14509805,\n",
       "        0.        , 0.        , 0.        ],\n",
       "       [0.        , 0.        , 0.        , 0.        , 0.40784314,\n",
       "        0.9254902 , 0.74509805, 0.8901961 , 0.36862746, 0.827451  ,\n",
       "        0.8       , 0.7607843 , 0.7529412 , 0.75686276, 0.7411765 ,\n",
       "        0.7607843 , 0.75686276, 0.7607843 , 0.8352941 , 0.75686276,\n",
       "        0.21176471, 0.92941177, 0.7490196 , 0.9411765 , 0.3372549 ,\n",
       "        0.        , 0.        , 0.        ],\n",
       "       [0.        , 0.        , 0.        , 0.        , 0.54509807,\n",
       "        0.8784314 , 0.7647059 , 0.92941177, 0.11764706, 0.8039216 ,\n",
       "        0.8       , 0.7607843 , 0.75686276, 0.7607843 , 0.7647059 ,\n",
       "        0.7647059 , 0.7529412 , 0.7607843 , 0.8235294 , 0.8235294 ,\n",
       "        0.        , 0.93333334, 0.7607843 , 0.91764706, 0.43529412,\n",
       "        0.        , 0.        , 0.        ],\n",
       "       [0.        , 0.        , 0.        , 0.        , 0.6039216 ,\n",
       "        0.84313726, 0.7764706 , 0.9490196 , 0.00784314, 0.80784315,\n",
       "        0.79607844, 0.74509805, 0.7647059 , 0.77254903, 0.7529412 ,\n",
       "        0.7647059 , 0.7607843 , 0.7647059 , 0.8039216 , 0.8392157 ,\n",
       "        0.        , 0.88235295, 0.78039217, 0.8862745 , 0.4862745 ,\n",
       "        0.        , 0.        , 0.        ],\n",
       "       [0.        , 0.        , 0.        , 0.        , 0.58431375,\n",
       "        0.85882354, 0.79607844, 0.9372549 , 0.        , 0.8156863 ,\n",
       "        0.8156863 , 0.74509805, 0.75686276, 0.7647059 , 0.75686276,\n",
       "        0.7647059 , 0.7607843 , 0.7764706 , 0.8039216 , 0.8666667 ,\n",
       "        0.        , 0.75686276, 0.8       , 0.8117647 , 0.5372549 ,\n",
       "        0.        , 0.        , 0.        ],\n",
       "       [0.        , 0.        , 0.        , 0.        , 0.5529412 ,\n",
       "        0.8627451 , 0.80784315, 0.8627451 , 0.        , 0.8627451 ,\n",
       "        0.8117647 , 0.7607843 , 0.7647059 , 0.78039217, 0.76862746,\n",
       "        0.78039217, 0.76862746, 0.7764706 , 0.8       , 0.9098039 ,\n",
       "        0.        , 0.61960787, 0.8235294 , 0.80784315, 0.5647059 ,\n",
       "        0.        , 0.        , 0.        ],\n",
       "       [0.        , 0.        , 0.        , 0.        , 0.50980395,\n",
       "        0.8       , 0.827451  , 0.7411765 , 0.        , 0.9019608 ,\n",
       "        0.7921569 , 0.7647059 , 0.78039217, 0.79607844, 0.7647059 ,\n",
       "        0.78431374, 0.7764706 , 0.7764706 , 0.8039216 , 0.92941177,\n",
       "        0.        , 0.49019608, 0.8352941 , 0.80784315, 0.57254905,\n",
       "        0.        , 0.        , 0.        ],\n",
       "       [0.        , 0.        , 0.        , 0.        , 0.47843137,\n",
       "        0.8039216 , 0.85882354, 0.52156866, 0.        , 0.9529412 ,\n",
       "        0.80784315, 0.77254903, 0.7764706 , 0.78039217, 0.77254903,\n",
       "        0.7921569 , 0.78039217, 0.78431374, 0.8039216 , 0.9490196 ,\n",
       "        0.        , 0.27450982, 0.8666667 , 0.8156863 , 0.54901963,\n",
       "        0.        , 0.        , 0.        ],\n",
       "       [0.        , 0.        , 0.        , 0.        , 0.45490196,\n",
       "        0.8156863 , 0.87058824, 0.24313726, 0.        , 0.9647059 ,\n",
       "        0.8039216 , 0.7921569 , 0.78431374, 0.7764706 , 0.7764706 ,\n",
       "        0.7882353 , 0.79607844, 0.7882353 , 0.8       , 0.9607843 ,\n",
       "        0.        , 0.13333334, 1.        , 0.8156863 , 0.5176471 ,\n",
       "        0.        , 0.        , 0.        ],\n",
       "       [0.        , 0.        , 0.        , 0.        , 0.34117648,\n",
       "        0.8352941 , 0.8392157 , 0.        , 0.        , 0.95686275,\n",
       "        0.7921569 , 0.7882353 , 0.7882353 , 0.78039217, 0.7882353 ,\n",
       "        0.7921569 , 0.8       , 0.79607844, 0.79607844, 0.9607843 ,\n",
       "        0.        , 0.        , 0.8156863 , 0.8392157 , 0.42352942,\n",
       "        0.        , 0.        , 0.        ],\n",
       "       [0.        , 0.        , 0.        , 0.        , 0.30588236,\n",
       "        0.8352941 , 0.8039216 , 0.        , 0.        , 0.9647059 ,\n",
       "        0.7921569 , 0.7921569 , 0.78431374, 0.7921569 , 0.7882353 ,\n",
       "        0.79607844, 0.80784315, 0.8       , 0.8039216 , 0.95686275,\n",
       "        0.        , 0.        , 0.78039217, 0.84313726, 0.34509805,\n",
       "        0.        , 0.        , 0.        ],\n",
       "       [0.        , 0.        , 0.        , 0.        , 0.5137255 ,\n",
       "        0.9137255 , 0.88235295, 0.        , 0.        , 0.99215686,\n",
       "        0.7882353 , 0.78431374, 0.78039217, 0.80784315, 0.79607844,\n",
       "        0.8       , 0.80784315, 0.8       , 0.7882353 , 1.        ,\n",
       "        0.        , 0.        , 0.84705883, 0.93333334, 0.5176471 ,\n",
       "        0.        , 0.        , 0.        ],\n",
       "       [0.        , 0.        , 0.        , 0.        , 0.07058824,\n",
       "        0.31764707, 0.2901961 , 0.        , 0.        , 0.8039216 ,\n",
       "        0.8862745 , 0.8156863 , 0.80784315, 0.81960785, 0.8117647 ,\n",
       "        0.8       , 0.81960785, 0.80784315, 0.8784314 , 0.92156863,\n",
       "        0.        , 0.        , 0.30980393, 0.33333334, 0.09411765,\n",
       "        0.        , 0.        , 0.        ],\n",
       "       [0.        , 0.        , 0.        , 0.        , 0.        ,\n",
       "        0.        , 0.        , 0.        , 0.        , 0.        ,\n",
       "        0.4862745 , 0.65882355, 0.7764706 , 0.8039216 , 0.8352941 ,\n",
       "        0.80784315, 0.7882353 , 0.7882353 , 0.6117647 , 0.01568628,\n",
       "        0.        , 0.        , 0.        , 0.        , 0.        ,\n",
       "        0.        , 0.        , 0.        ]], dtype=float32)"
      ]
     },
     "execution_count": 25,
     "metadata": {},
     "output_type": "execute_result"
    }
   ],
   "source": [
    "#convert that torch into numpy array \n",
    "\n",
    "images[0].squeeze().numpy()"
   ]
  },
  {
   "cell_type": "code",
   "execution_count": 26,
   "id": "a2ebac65-2bf2-48ae-9900-2a60e24ff9aa",
   "metadata": {},
   "outputs": [
    {
     "data": {
      "text/plain": [
       "(torch.Size([1, 28, 28]), torch.Size([28, 28]), torch.Size([1, 1, 28, 28]))"
      ]
     },
     "execution_count": 26,
     "metadata": {},
     "output_type": "execute_result"
    }
   ],
   "source": [
    "images[0].shape,images[0].squeeze().shape,images[0].unsqueeze(dim=1).shape"
   ]
  },
  {
   "cell_type": "code",
   "execution_count": 27,
   "id": "59b8a55b-fbf8-49ed-b4e9-ffd73ca4aae7",
   "metadata": {},
   "outputs": [],
   "source": [
    "#define CNN architecture\n",
    "\n",
    "class CNN(nn.Module):\n",
    "  def __init__(self, in_, out_):\n",
    "    super(CNN, self).__init__()\n",
    "\n",
    "    self.conv_pool_01 = nn.Sequential(\n",
    "        nn.Conv2d(in_channels=in_, out_channels=8, kernel_size=5, stride=1, padding=0),\n",
    "        nn.ReLU(),\n",
    "        nn.MaxPool2d(kernel_size=2, stride=2)\n",
    "    )\n",
    "\n",
    "    self.conv_pool_02 = nn.Sequential(\n",
    "        nn.Conv2d(in_channels=8, out_channels=16, kernel_size=5, stride=1, padding=0),\n",
    "        nn.ReLU(),\n",
    "        nn.MaxPool2d(kernel_size=2, stride=2)\n",
    "    )\n",
    "\n",
    "    self.Flatten = nn.Flatten()\n",
    "    self.FC_01 = nn.Linear(in_features=16*4*4, out_features=128)\n",
    "    self.FC_02 = nn.Linear(in_features=128, out_features=64)\n",
    "    self.FC_03 = nn.Linear(in_features=64, out_features=out_)\n",
    "\n",
    "  def forward(self, x):\n",
    "    x = self.conv_pool_01(x)\n",
    "    x = self.conv_pool_02(x)\n",
    "    x = self.Flatten(x)\n",
    "    x = self.FC_01(x)\n",
    "    x = F.relu(x)\n",
    "    x = self.FC_02(x)\n",
    "    x = F.relu(x)    \n",
    "    x = self.FC_03(x)\n",
    "    return x\n"
   ]
  },
  {
   "cell_type": "code",
   "execution_count": 28,
   "id": "a800e4d3-4699-4e4f-a0e0-7d52f0e9ad66",
   "metadata": {},
   "outputs": [
    {
     "name": "stdout",
     "output_type": "stream",
     "text": [
      "CNN(\n",
      "  (conv_pool_01): Sequential(\n",
      "    (0): Conv2d(1, 8, kernel_size=(5, 5), stride=(1, 1))\n",
      "    (1): ReLU()\n",
      "    (2): MaxPool2d(kernel_size=2, stride=2, padding=0, dilation=1, ceil_mode=False)\n",
      "  )\n",
      "  (conv_pool_02): Sequential(\n",
      "    (0): Conv2d(8, 16, kernel_size=(5, 5), stride=(1, 1))\n",
      "    (1): ReLU()\n",
      "    (2): MaxPool2d(kernel_size=2, stride=2, padding=0, dilation=1, ceil_mode=False)\n",
      "  )\n",
      "  (Flatten): Flatten(start_dim=1, end_dim=-1)\n",
      "  (FC_01): Linear(in_features=256, out_features=128, bias=True)\n",
      "  (FC_02): Linear(in_features=128, out_features=64, bias=True)\n",
      "  (FC_03): Linear(in_features=64, out_features=10, bias=True)\n",
      ")\n"
     ]
    }
   ],
   "source": [
    "model=CNN(1,10)\n",
    "\n",
    "print(model)"
   ]
  },
  {
   "cell_type": "code",
   "execution_count": 29,
   "id": "b0deab1b-70b5-4089-b21a-4fd3394c3760",
   "metadata": {},
   "outputs": [
    {
     "data": {
      "text/plain": [
       "<generator object Module.parameters at 0x000001DB7A9FFE60>"
      ]
     },
     "execution_count": 29,
     "metadata": {},
     "output_type": "execute_result"
    }
   ],
   "source": [
    "model.parameters()"
   ]
  },
  {
   "cell_type": "code",
   "execution_count": 30,
   "id": "990c3d75-6d50-4d50-8e98-3c81055c6873",
   "metadata": {},
   "outputs": [
    {
     "data": {
      "text/plain": [
       "False"
      ]
     },
     "execution_count": 30,
     "metadata": {},
     "output_type": "execute_result"
    }
   ],
   "source": [
    "next(model.parameters()).is_cuda"
   ]
  },
  {
   "cell_type": "code",
   "execution_count": 31,
   "id": "8e4f5fad-8249-42d5-b78e-48dafc67d572",
   "metadata": {},
   "outputs": [
    {
     "data": {
      "text/plain": [
       "CNN(\n",
       "  (conv_pool_01): Sequential(\n",
       "    (0): Conv2d(1, 8, kernel_size=(5, 5), stride=(1, 1))\n",
       "    (1): ReLU()\n",
       "    (2): MaxPool2d(kernel_size=2, stride=2, padding=0, dilation=1, ceil_mode=False)\n",
       "  )\n",
       "  (conv_pool_02): Sequential(\n",
       "    (0): Conv2d(8, 16, kernel_size=(5, 5), stride=(1, 1))\n",
       "    (1): ReLU()\n",
       "    (2): MaxPool2d(kernel_size=2, stride=2, padding=0, dilation=1, ceil_mode=False)\n",
       "  )\n",
       "  (Flatten): Flatten(start_dim=1, end_dim=-1)\n",
       "  (FC_01): Linear(in_features=256, out_features=128, bias=True)\n",
       "  (FC_02): Linear(in_features=128, out_features=64, bias=True)\n",
       "  (FC_03): Linear(in_features=64, out_features=10, bias=True)\n",
       ")"
      ]
     },
     "execution_count": 31,
     "metadata": {},
     "output_type": "execute_result"
    }
   ],
   "source": [
    "model.to(config.DEVICE)"
   ]
  },
  {
   "cell_type": "code",
   "execution_count": 32,
   "id": "92480632-cbaf-4a14-b965-21f9436644f5",
   "metadata": {},
   "outputs": [
    {
     "data": {
      "text/plain": [
       "False"
      ]
     },
     "execution_count": 32,
     "metadata": {},
     "output_type": "execute_result"
    }
   ],
   "source": [
    "next(model.parameters()).is_cuda"
   ]
  },
  {
   "cell_type": "code",
   "execution_count": 33,
   "id": "70435898-4c2a-4257-bab3-edbdfd965516",
   "metadata": {},
   "outputs": [],
   "source": [
    "import pandas as pd"
   ]
  },
  {
   "cell_type": "code",
   "execution_count": 34,
   "id": "ee522006-b40c-4711-8e8a-ee7098a53b6b",
   "metadata": {},
   "outputs": [
    {
     "data": {
      "text/html": [
       "<style type=\"text/css\">\n",
       "</style>\n",
       "<table id=\"T_aa3ea\">\n",
       "  <caption>Total parameters: {'trainable': 45226, 'non_trainable': 0}</caption>\n",
       "  <thead>\n",
       "    <tr>\n",
       "      <th class=\"blank level0\" >&nbsp;</th>\n",
       "      <th id=\"T_aa3ea_level0_col0\" class=\"col_heading level0 col0\" >Modules</th>\n",
       "      <th id=\"T_aa3ea_level0_col1\" class=\"col_heading level0 col1\" >Parameters</th>\n",
       "    </tr>\n",
       "  </thead>\n",
       "  <tbody>\n",
       "    <tr>\n",
       "      <th id=\"T_aa3ea_level0_row0\" class=\"row_heading level0 row0\" >0</th>\n",
       "      <td id=\"T_aa3ea_row0_col0\" class=\"data row0 col0\" >conv_pool_01.0.weight</td>\n",
       "      <td id=\"T_aa3ea_row0_col1\" class=\"data row0 col1\" >200</td>\n",
       "    </tr>\n",
       "    <tr>\n",
       "      <th id=\"T_aa3ea_level0_row1\" class=\"row_heading level0 row1\" >1</th>\n",
       "      <td id=\"T_aa3ea_row1_col0\" class=\"data row1 col0\" >conv_pool_01.0.bias</td>\n",
       "      <td id=\"T_aa3ea_row1_col1\" class=\"data row1 col1\" >8</td>\n",
       "    </tr>\n",
       "    <tr>\n",
       "      <th id=\"T_aa3ea_level0_row2\" class=\"row_heading level0 row2\" >2</th>\n",
       "      <td id=\"T_aa3ea_row2_col0\" class=\"data row2 col0\" >conv_pool_02.0.weight</td>\n",
       "      <td id=\"T_aa3ea_row2_col1\" class=\"data row2 col1\" >3200</td>\n",
       "    </tr>\n",
       "    <tr>\n",
       "      <th id=\"T_aa3ea_level0_row3\" class=\"row_heading level0 row3\" >3</th>\n",
       "      <td id=\"T_aa3ea_row3_col0\" class=\"data row3 col0\" >conv_pool_02.0.bias</td>\n",
       "      <td id=\"T_aa3ea_row3_col1\" class=\"data row3 col1\" >16</td>\n",
       "    </tr>\n",
       "    <tr>\n",
       "      <th id=\"T_aa3ea_level0_row4\" class=\"row_heading level0 row4\" >4</th>\n",
       "      <td id=\"T_aa3ea_row4_col0\" class=\"data row4 col0\" >FC_01.weight</td>\n",
       "      <td id=\"T_aa3ea_row4_col1\" class=\"data row4 col1\" >32768</td>\n",
       "    </tr>\n",
       "    <tr>\n",
       "      <th id=\"T_aa3ea_level0_row5\" class=\"row_heading level0 row5\" >5</th>\n",
       "      <td id=\"T_aa3ea_row5_col0\" class=\"data row5 col0\" >FC_01.bias</td>\n",
       "      <td id=\"T_aa3ea_row5_col1\" class=\"data row5 col1\" >128</td>\n",
       "    </tr>\n",
       "    <tr>\n",
       "      <th id=\"T_aa3ea_level0_row6\" class=\"row_heading level0 row6\" >6</th>\n",
       "      <td id=\"T_aa3ea_row6_col0\" class=\"data row6 col0\" >FC_02.weight</td>\n",
       "      <td id=\"T_aa3ea_row6_col1\" class=\"data row6 col1\" >8192</td>\n",
       "    </tr>\n",
       "    <tr>\n",
       "      <th id=\"T_aa3ea_level0_row7\" class=\"row_heading level0 row7\" >7</th>\n",
       "      <td id=\"T_aa3ea_row7_col0\" class=\"data row7 col0\" >FC_02.bias</td>\n",
       "      <td id=\"T_aa3ea_row7_col1\" class=\"data row7 col1\" >64</td>\n",
       "    </tr>\n",
       "    <tr>\n",
       "      <th id=\"T_aa3ea_level0_row8\" class=\"row_heading level0 row8\" >8</th>\n",
       "      <td id=\"T_aa3ea_row8_col0\" class=\"data row8 col0\" >FC_03.weight</td>\n",
       "      <td id=\"T_aa3ea_row8_col1\" class=\"data row8 col1\" >640</td>\n",
       "    </tr>\n",
       "    <tr>\n",
       "      <th id=\"T_aa3ea_level0_row9\" class=\"row_heading level0 row9\" >9</th>\n",
       "      <td id=\"T_aa3ea_row9_col0\" class=\"data row9 col0\" >FC_03.bias</td>\n",
       "      <td id=\"T_aa3ea_row9_col1\" class=\"data row9 col1\" >10</td>\n",
       "    </tr>\n",
       "  </tbody>\n",
       "</table>\n"
      ],
      "text/plain": [
       "<pandas.io.formats.style.Styler at 0x1db7aa4fcb0>"
      ]
     },
     "execution_count": 34,
     "metadata": {},
     "output_type": "execute_result"
    }
   ],
   "source": [
    "def count_params(model):\n",
    "  model_params = {\"Modules\": list(), \"Parameters\": list()}\n",
    "  total = {\"trainable\": 0, \"non_trainable\": 0} \n",
    "  for name, parameters in model.named_parameters():\n",
    "    param = parameters.numel()\n",
    "    if not parameters.requires_grad:\n",
    "      total[\"non_trainable\"] += param\n",
    "      continue\n",
    "    model_params[\"Modules\"].append(name)\n",
    "    model_params[\"Parameters\"].append(param)\n",
    "    total[\"trainable\"] += param\n",
    "  df = pd.DataFrame(model_params)\n",
    "  df = df.style.set_caption(f\"Total parameters: {total}\")\n",
    "  return df\n",
    "\n",
    "count_params(model)"
   ]
  },
  {
   "cell_type": "code",
   "execution_count": 35,
   "id": "c3918d94-85cd-4917-9b36-dcc0733c5148",
   "metadata": {},
   "outputs": [
    {
     "data": {
      "text/html": [
       "<style type=\"text/css\">\n",
       "</style>\n",
       "<table id=\"T_7d1fd\">\n",
       "  <caption>Total parameters: {'trainable': 45226, 'non_trainable': 0}</caption>\n",
       "  <thead>\n",
       "    <tr>\n",
       "      <th class=\"blank level0\" >&nbsp;</th>\n",
       "      <th id=\"T_7d1fd_level0_col0\" class=\"col_heading level0 col0\" >Modules</th>\n",
       "      <th id=\"T_7d1fd_level0_col1\" class=\"col_heading level0 col1\" >Parameters</th>\n",
       "    </tr>\n",
       "  </thead>\n",
       "  <tbody>\n",
       "    <tr>\n",
       "      <th id=\"T_7d1fd_level0_row0\" class=\"row_heading level0 row0\" >0</th>\n",
       "      <td id=\"T_7d1fd_row0_col0\" class=\"data row0 col0\" >conv_pool_01.0.weight</td>\n",
       "      <td id=\"T_7d1fd_row0_col1\" class=\"data row0 col1\" >200</td>\n",
       "    </tr>\n",
       "    <tr>\n",
       "      <th id=\"T_7d1fd_level0_row1\" class=\"row_heading level0 row1\" >1</th>\n",
       "      <td id=\"T_7d1fd_row1_col0\" class=\"data row1 col0\" >conv_pool_01.0.bias</td>\n",
       "      <td id=\"T_7d1fd_row1_col1\" class=\"data row1 col1\" >8</td>\n",
       "    </tr>\n",
       "    <tr>\n",
       "      <th id=\"T_7d1fd_level0_row2\" class=\"row_heading level0 row2\" >2</th>\n",
       "      <td id=\"T_7d1fd_row2_col0\" class=\"data row2 col0\" >conv_pool_02.0.weight</td>\n",
       "      <td id=\"T_7d1fd_row2_col1\" class=\"data row2 col1\" >3200</td>\n",
       "    </tr>\n",
       "    <tr>\n",
       "      <th id=\"T_7d1fd_level0_row3\" class=\"row_heading level0 row3\" >3</th>\n",
       "      <td id=\"T_7d1fd_row3_col0\" class=\"data row3 col0\" >conv_pool_02.0.bias</td>\n",
       "      <td id=\"T_7d1fd_row3_col1\" class=\"data row3 col1\" >16</td>\n",
       "    </tr>\n",
       "    <tr>\n",
       "      <th id=\"T_7d1fd_level0_row4\" class=\"row_heading level0 row4\" >4</th>\n",
       "      <td id=\"T_7d1fd_row4_col0\" class=\"data row4 col0\" >FC_01.weight</td>\n",
       "      <td id=\"T_7d1fd_row4_col1\" class=\"data row4 col1\" >32768</td>\n",
       "    </tr>\n",
       "    <tr>\n",
       "      <th id=\"T_7d1fd_level0_row5\" class=\"row_heading level0 row5\" >5</th>\n",
       "      <td id=\"T_7d1fd_row5_col0\" class=\"data row5 col0\" >FC_01.bias</td>\n",
       "      <td id=\"T_7d1fd_row5_col1\" class=\"data row5 col1\" >128</td>\n",
       "    </tr>\n",
       "    <tr>\n",
       "      <th id=\"T_7d1fd_level0_row6\" class=\"row_heading level0 row6\" >6</th>\n",
       "      <td id=\"T_7d1fd_row6_col0\" class=\"data row6 col0\" >FC_02.weight</td>\n",
       "      <td id=\"T_7d1fd_row6_col1\" class=\"data row6 col1\" >8192</td>\n",
       "    </tr>\n",
       "    <tr>\n",
       "      <th id=\"T_7d1fd_level0_row7\" class=\"row_heading level0 row7\" >7</th>\n",
       "      <td id=\"T_7d1fd_row7_col0\" class=\"data row7 col0\" >FC_02.bias</td>\n",
       "      <td id=\"T_7d1fd_row7_col1\" class=\"data row7 col1\" >64</td>\n",
       "    </tr>\n",
       "    <tr>\n",
       "      <th id=\"T_7d1fd_level0_row8\" class=\"row_heading level0 row8\" >8</th>\n",
       "      <td id=\"T_7d1fd_row8_col0\" class=\"data row8 col0\" >FC_03.weight</td>\n",
       "      <td id=\"T_7d1fd_row8_col1\" class=\"data row8 col1\" >640</td>\n",
       "    </tr>\n",
       "    <tr>\n",
       "      <th id=\"T_7d1fd_level0_row9\" class=\"row_heading level0 row9\" >9</th>\n",
       "      <td id=\"T_7d1fd_row9_col0\" class=\"data row9 col0\" >FC_03.bias</td>\n",
       "      <td id=\"T_7d1fd_row9_col1\" class=\"data row9 col1\" >10</td>\n",
       "    </tr>\n",
       "  </tbody>\n",
       "</table>\n"
      ],
      "text/plain": [
       "<pandas.io.formats.style.Styler at 0x1db7ad06b10>"
      ]
     },
     "execution_count": 35,
     "metadata": {},
     "output_type": "execute_result"
    }
   ],
   "source": [
    "count_params(model)"
   ]
  },
  {
   "cell_type": "code",
   "execution_count": 36,
   "id": "35f02469-4b30-44aa-9d8a-2e19312e2bbb",
   "metadata": {},
   "outputs": [
    {
     "data": {
      "text/plain": [
       "<matplotlib.image.AxesImage at 0x1db7a9d1af0>"
      ]
     },
     "execution_count": 36,
     "metadata": {},
     "output_type": "execute_result"
    },
    {
     "data": {
      "image/png": "[encoded data removed]",
      "text/plain": [
       "<Figure size 640x480 with 1 Axes>"
      ]
     },
     "metadata": {},
     "output_type": "display_data"
    }
   ],
   "source": [
    "plt.imshow(images[0].squeeze(),cmap=\"gray\")"
   ]
  },
  {
   "cell_type": "code",
   "execution_count": 37,
   "id": "e7e982b8-d28d-4940-9215-b330c7704f82",
   "metadata": {},
   "outputs": [],
   "source": [
    "#60000/32 sample size/ batch size= steps per epoch\n",
    "#and number of epochs is something we define."
   ]
  },
  {
   "cell_type": "code",
   "execution_count": 38,
   "id": "7accdf58-698f-4b3a-9887-6b35899216ab",
   "metadata": {},
   "outputs": [],
   "source": [
    "criterion = nn.CrossEntropyLoss() #this is our predefined loss function\n",
    "optimizer = torch.optim.Adam(model.parameters(),lr=config.learning_rate) #Adam Optimisers\n"
   ]
  },
  {
   "cell_type": "code",
   "execution_count": 39,
   "id": "efaeafb7-b62e-427f-8d66-92c3adf4c592",
   "metadata": {},
   "outputs": [
    {
     "data": {
      "text/plain": [
       "1875"
      ]
     },
     "execution_count": 39,
     "metadata": {},
     "output_type": "execute_result"
    }
   ],
   "source": [
    "len(train_data_loader) #steps per epochs"
   ]
  },
  {
   "cell_type": "code",
   "execution_count": 40,
   "id": "0f606d13-e4ce-4e40-99a9-5c7e9d6e905d",
   "metadata": {},
   "outputs": [
    {
     "name": "stderr",
     "output_type": "stream",
     "text": [
      "EPOCH1/ 10: 100%|██████████| 1875/1875 [01:19<00:00, 23.48it/s, loss=0.583]\n",
      "EPOCH2/ 10: 100%|██████████| 1875/1875 [01:17<00:00, 24.33it/s, loss=0.418] \n",
      "EPOCH3/ 10: 100%|██████████| 1875/1875 [01:16<00:00, 24.44it/s, loss=0.532] \n",
      "EPOCH4/ 10: 100%|██████████| 1875/1875 [01:14<00:00, 25.22it/s, loss=0.279] \n",
      "EPOCH5/ 10: 100%|██████████| 1875/1875 [01:02<00:00, 29.79it/s, loss=0.448] \n",
      "EPOCH6/ 10: 100%|██████████| 1875/1875 [01:16<00:00, 24.65it/s, loss=0.284] \n",
      "EPOCH7/ 10: 100%|██████████| 1875/1875 [01:17<00:00, 24.15it/s, loss=0.253] \n",
      "EPOCH8/ 10: 100%|██████████| 1875/1875 [01:19<00:00, 23.50it/s, loss=0.299] \n",
      "EPOCH9/ 10: 100%|██████████| 1875/1875 [01:17<00:00, 24.14it/s, loss=0.436] \n",
      "EPOCH10/ 10: 100%|██████████| 1875/1875 [01:17<00:00, 24.11it/s, loss=0.223] \n"
     ]
    }
   ],
   "source": [
    "for epoch in range(config.epochs):\n",
    "  with tqdm(train_data_loader) as tqdm_epoch:\n",
    "    for images,labels in tqdm_epoch:\n",
    "      tqdm_epoch.set_description(f\"EPOCH{epoch+1}/ {config.epochs}\")\n",
    "\n",
    "      #put the images on cuda device\n",
    "      images=images.to(config.DEVICE)\n",
    "      labels=labels.to(config.DEVICE)\n",
    "\n",
    "      #forward pass\n",
    "      output = model(images)\n",
    "      loss= criterion(output,labels) #this is our loss function \n",
    "\n",
    "      #backward propagation\n",
    "      optimizer.zero_grad() #make the weights and biases as zero\n",
    "      loss.backward() # do backward propagation to calculate gradient to see what to update the new weights with \n",
    "      optimizer.step() #weights updated \n",
    "\n",
    "\n",
    "      tqdm_epoch.set_postfix(loss=loss.item()) #.item is used to get the numerical value of that function\n"
   ]
  },
  {
   "cell_type": "code",
   "execution_count": 41,
   "id": "6e9f10b0-ab4b-4862-8f85-a5038b77a203",
   "metadata": {},
   "outputs": [],
   "source": [
    "os.makedirs(\"model_dir\",exist_ok=True)\n",
    "model_file_path= os.path.join(\"model_dir\",\"CNN_model.pth\")\n",
    "torch.save(model,model_file_path)"
   ]
  },
  {
   "cell_type": "code",
   "execution_count": 42,
   "id": "637885c6-c1cd-4050-ae27-4cbb51cb4148",
   "metadata": {},
   "outputs": [],
   "source": [
    "loaded_model=torch.load(model_file_path)"
   ]
  },
  {
   "cell_type": "code",
   "execution_count": 43,
   "id": "302c11ea-dece-4a1a-8af5-de8298a9783c",
   "metadata": {},
   "outputs": [],
   "source": [
    "pred= np.array([])\n",
    "target= np.array([])\n",
    "\n",
    "with torch.no_grad():\n",
    "  for batch,data in enumerate(test_data_loader):\n",
    "    images=data[0].to(config.DEVICE)\n",
    "    labels=data[1].to(config.DEVICE)\n",
    "\n",
    "    y_pred=model(images)\n",
    "\n",
    "    pred = np.concatenate((pred,torch.argmax(y_pred,1).cpu().numpy()))\n",
    "    target=np.concatenate((target,labels.cpu().numpy()))"
   ]
  },
  {
   "cell_type": "code",
   "execution_count": 44,
   "id": "b3a105c0-0a19-45d4-b771-0dd71fd71939",
   "metadata": {},
   "outputs": [],
   "source": [
    "cm=confusion_matrix(target,pred)"
   ]
  },
  {
   "cell_type": "code",
   "execution_count": 45,
   "id": "0a584a70-5d3f-42cb-bc20-c351bd7c5a32",
   "metadata": {},
   "outputs": [
    {
     "data": {
      "text/plain": [
       "dict_values(['T-shirt/top', 'Trouser', 'Pullover', 'Dress', 'Coat', 'Sandal', 'Shirt', 'Sneaker', 'Bag', 'Ankle boot'])"
      ]
     },
     "execution_count": 45,
     "metadata": {},
     "output_type": "execute_result"
    }
   ],
   "source": [
    "label_map.values()"
   ]
  },
  {
   "cell_type": "code",
   "execution_count": 46,
   "id": "0afc400a-30a6-455d-98b6-48a616133954",
   "metadata": {},
   "outputs": [
    {
     "data": {
      "text/plain": [
       "<Axes: >"
      ]
     },
     "execution_count": 46,
     "metadata": {},
     "output_type": "execute_result"
    },
    {
     "data": {
      "image/png": "[encoded data removed]",
      "text/plain": [
       "<Figure size 1200x1000 with 1 Axes>"
      ]
     },
     "metadata": {},
     "output_type": "display_data"
    }
   ],
   "source": [
    "plt.figure(figsize=(12,10))\n",
    "sns.heatmap(cm,annot=True,fmt='d',xticklabels=label_map.values(),yticklabels=label_map.values(),cbar=False)"
   ]
  },
  {
   "cell_type": "code",
   "execution_count": 47,
   "id": "bafbf7d7-4c1d-49b5-9072-f54960e2e3a8",
   "metadata": {},
   "outputs": [
    {
     "data": {
      "text/plain": [
       "[tensor([[[[0.0000, 0.0000, 0.0000,  ..., 0.0000, 0.0000, 0.0000],\n",
       "           [0.0000, 0.0000, 0.0000,  ..., 0.0000, 0.0000, 0.0000],\n",
       "           [0.0000, 0.0000, 0.0000,  ..., 0.0000, 0.0000, 0.0000],\n",
       "           ...,\n",
       "           [0.0000, 0.0000, 0.0000,  ..., 0.0000, 0.0000, 0.0000],\n",
       "           [0.0000, 0.0000, 0.0000,  ..., 0.0000, 0.0000, 0.0000],\n",
       "           [0.0000, 0.0000, 0.0000,  ..., 0.0000, 0.0000, 0.0000]]],\n",
       " \n",
       " \n",
       "         [[[0.0000, 0.0000, 0.0000,  ..., 0.0000, 0.0000, 0.0000],\n",
       "           [0.0000, 0.0000, 0.0000,  ..., 0.0000, 0.0000, 0.0000],\n",
       "           [0.0000, 0.0000, 0.0000,  ..., 0.0000, 0.0000, 0.0000],\n",
       "           ...,\n",
       "           [0.0000, 0.0000, 0.0000,  ..., 0.0000, 0.0000, 0.0000],\n",
       "           [0.0000, 0.0000, 0.0000,  ..., 0.0000, 0.0000, 0.0000],\n",
       "           [0.0000, 0.0000, 0.0000,  ..., 0.0000, 0.0000, 0.0000]]],\n",
       " \n",
       " \n",
       "         [[[0.0000, 0.0000, 0.0000,  ..., 0.0000, 0.0000, 0.0000],\n",
       "           [0.0000, 0.0000, 0.0000,  ..., 0.0000, 0.0000, 0.0000],\n",
       "           [0.0000, 0.0000, 0.0000,  ..., 0.0000, 0.0000, 0.0000],\n",
       "           ...,\n",
       "           [0.0000, 0.0000, 0.0000,  ..., 0.0000, 0.0000, 0.0000],\n",
       "           [0.0000, 0.0000, 0.0000,  ..., 0.0000, 0.0000, 0.0000],\n",
       "           [0.0000, 0.0000, 0.0000,  ..., 0.0000, 0.0000, 0.0000]]],\n",
       " \n",
       " \n",
       "         ...,\n",
       " \n",
       " \n",
       "         [[[0.0000, 0.0000, 0.0000,  ..., 0.0000, 0.0000, 0.0000],\n",
       "           [0.0000, 0.0000, 0.0000,  ..., 0.0000, 0.0000, 0.0000],\n",
       "           [0.0000, 0.0000, 0.0000,  ..., 0.0000, 0.0000, 0.0000],\n",
       "           ...,\n",
       "           [0.0000, 0.0000, 0.0000,  ..., 0.0000, 0.0000, 0.0000],\n",
       "           [0.0000, 0.0000, 0.0000,  ..., 0.0000, 0.0000, 0.0000],\n",
       "           [0.0000, 0.0000, 0.0000,  ..., 0.0000, 0.0000, 0.0000]]],\n",
       " \n",
       " \n",
       "         [[[0.0000, 0.0000, 0.0000,  ..., 0.0000, 0.0000, 0.0000],\n",
       "           [0.0000, 0.0000, 0.0000,  ..., 0.0000, 0.0000, 0.0000],\n",
       "           [0.0000, 0.0000, 0.0000,  ..., 0.0000, 0.0000, 0.0000],\n",
       "           ...,\n",
       "           [0.0000, 0.0000, 0.0000,  ..., 0.9020, 0.9608, 0.8000],\n",
       "           [0.0000, 0.0000, 0.0000,  ..., 0.6745, 0.7255, 0.4000],\n",
       "           [0.0000, 0.0000, 0.0000,  ..., 0.0000, 0.0000, 0.0000]]],\n",
       " \n",
       " \n",
       "         [[[0.0000, 0.0000, 0.0000,  ..., 0.0000, 0.0000, 0.0000],\n",
       "           [0.0000, 0.0000, 0.0000,  ..., 0.0000, 0.0000, 0.0000],\n",
       "           [0.0000, 0.0000, 0.0000,  ..., 0.0000, 0.0000, 0.0000],\n",
       "           ...,\n",
       "           [0.0000, 0.0000, 0.0000,  ..., 0.0000, 0.0000, 0.0000],\n",
       "           [0.0000, 0.0000, 0.0000,  ..., 0.0000, 0.0000, 0.0000],\n",
       "           [0.0000, 0.0000, 0.0000,  ..., 0.0000, 0.0000, 0.0000]]]]),\n",
       " tensor([9, 2, 1, 1, 6, 1, 4, 6, 5, 7, 4, 5, 7, 3, 4, 1, 2, 4, 8, 0, 2, 5, 7, 9,\n",
       "         1, 4, 6, 0, 9, 3, 8, 8])]"
      ]
     },
     "execution_count": 47,
     "metadata": {},
     "output_type": "execute_result"
    }
   ],
   "source": [
    "data=next(iter(test_data_loader))\n",
    "data"
   ]
  },
  {
   "cell_type": "code",
   "execution_count": 48,
   "id": "e3f27869-a4f3-4596-8956-b6a8906094d5",
   "metadata": {},
   "outputs": [
    {
     "data": {
      "text/plain": [
       "2"
      ]
     },
     "execution_count": 48,
     "metadata": {},
     "output_type": "execute_result"
    }
   ],
   "source": [
    "len(data)"
   ]
  },
  {
   "cell_type": "code",
   "execution_count": 49,
   "id": "5eb01e53-1c20-4c9e-867a-73502d99e836",
   "metadata": {},
   "outputs": [],
   "source": [
    "images,labels=data"
   ]
  },
  {
   "cell_type": "code",
   "execution_count": 50,
   "id": "530c50ae-bed2-4ded-85f5-388e86679050",
   "metadata": {},
   "outputs": [
    {
     "data": {
      "text/plain": [
       "torch.Size([32, 1, 28, 28])"
      ]
     },
     "execution_count": 50,
     "metadata": {},
     "output_type": "execute_result"
    }
   ],
   "source": [
    "images.shape"
   ]
  },
  {
   "cell_type": "code",
   "execution_count": 51,
   "id": "5dede962-4147-4413-a0b0-d6d6e64797a2",
   "metadata": {},
   "outputs": [
    {
     "data": {
      "text/plain": [
       "torch.Size([1, 28, 28])"
      ]
     },
     "execution_count": 51,
     "metadata": {},
     "output_type": "execute_result"
    }
   ],
   "source": [
    "idx=2\n",
    "img=images[idx]\n",
    "img.shape"
   ]
  },
  {
   "cell_type": "code",
   "execution_count": 52,
   "id": "d2043c0d-becf-4f8c-9299-f96e20be4e01",
   "metadata": {},
   "outputs": [
    {
     "data": {
      "text/plain": [
       "'Trouser'"
      ]
     },
     "execution_count": 52,
     "metadata": {},
     "output_type": "execute_result"
    }
   ],
   "source": [
    "label=labels[idx]\n",
    "label_map[label.item()]"
   ]
  },
  {
   "cell_type": "code",
   "execution_count": 53,
   "id": "c3fdff6d-df0c-4564-a93e-32ba86e0986f",
   "metadata": {},
   "outputs": [
    {
     "data": {
      "text/plain": [
       "<matplotlib.image.AxesImage at 0x1db7abcef60>"
      ]
     },
     "execution_count": 53,
     "metadata": {},
     "output_type": "execute_result"
    },
    {
     "data": {
      "image/png": "[encoded data removed]",
      "text/plain": [
       "<Figure size 640x480 with 1 Axes>"
      ]
     },
     "metadata": {},
     "output_type": "display_data"
    }
   ],
   "source": [
    "plt.imshow(img.squeeze(),cmap='gray')"
   ]
  },
  {
   "cell_type": "code",
   "execution_count": 54,
   "id": "a5aec3bf-5f77-4b69-ad23-e6cf1595f3b8",
   "metadata": {},
   "outputs": [
    {
     "data": {
      "text/plain": [
       "torch.Size([1, 1, 28, 28])"
      ]
     },
     "execution_count": 54,
     "metadata": {},
     "output_type": "execute_result"
    }
   ],
   "source": [
    "img.unsqueeze(dim=1).shape"
   ]
  },
  {
   "cell_type": "code",
   "execution_count": 55,
   "id": "58d0b190-d150-4e82-879b-58c573745817",
   "metadata": {},
   "outputs": [
    {
     "data": {
      "text/plain": [
       "tensor([[  -5.6751,   16.5301,  -26.4392,    1.0325,  -12.1577,  -37.6940,\n",
       "          -13.5765, -198.6481,   -2.7239,  -43.5652]],\n",
       "       grad_fn=<AddmmBackward0>)"
      ]
     },
     "execution_count": 55,
     "metadata": {},
     "output_type": "execute_result"
    }
   ],
   "source": [
    "logit=model(img.unsqueeze(dim=1).to(config.DEVICE))\n",
    "logit"
   ]
  },
  {
   "cell_type": "code",
   "execution_count": 56,
   "id": "bc18e23d-8114-46b3-b263-2596646d6978",
   "metadata": {},
   "outputs": [
    {
     "data": {
      "text/plain": [
       "-1315.2543"
      ]
     },
     "execution_count": 56,
     "metadata": {},
     "output_type": "execute_result"
    }
   ],
   "source": [
    "sum([ -41.4237,   35.2823,  -62.3171,  -18.0354,  -30.5634, -336.7688,-25.5911, -459.0298,  -73.0442, -303.7631])"
   ]
  },
  {
   "cell_type": "code",
   "execution_count": 57,
   "id": "95a861c0-6461-460a-bb60-a3fe5790e786",
   "metadata": {},
   "outputs": [
    {
     "data": {
      "text/plain": [
       "tensor([[2.2719e-10, 1.0000e+00, 2.1809e-19, 1.8597e-07, 3.4756e-13, 2.8233e-24,\n",
       "         8.4112e-14, 0.0000e+00, 4.3457e-09, 7.9602e-27]],\n",
       "       grad_fn=<SoftmaxBackward0>)"
      ]
     },
     "execution_count": 57,
     "metadata": {},
     "output_type": "execute_result"
    }
   ],
   "source": [
    "pred_prob=F.softmax(logit,dim=1)\n",
    "pred_prob\n",
    "     "
   ]
  },
  {
   "cell_type": "code",
   "execution_count": 58,
   "id": "14678fa3-db2f-48a8-93b3-1cdec4019bef",
   "metadata": {},
   "outputs": [
    {
     "data": {
      "text/plain": [
       "1.0"
      ]
     },
     "execution_count": 58,
     "metadata": {},
     "output_type": "execute_result"
    }
   ],
   "source": [
    "sum([4.8641e-34, 1.0000e+00, 4.1058e-43, 6.9886e-24, 2.5325e-29, 0.0000e+00,\n",
    "         3.6560e-27, 0.0000e+00, 0.0000e+00, 0.0000e+00])"
   ]
  },
  {
   "cell_type": "code",
   "execution_count": 59,
   "id": "d997bc89-73a8-483c-baf2-fa93965d09b2",
   "metadata": {},
   "outputs": [
    {
     "data": {
      "text/plain": [
       "1"
      ]
     },
     "execution_count": 59,
     "metadata": {},
     "output_type": "execute_result"
    }
   ],
   "source": [
    "argmax=(torch.argmax(pred_prob)).item()\n",
    "argmax"
   ]
  },
  {
   "cell_type": "code",
   "execution_count": 60,
   "id": "cfabd4f4-23ea-424e-8a04-a8ce8c2193b9",
   "metadata": {},
   "outputs": [
    {
     "data": {
      "text/plain": [
       "'Trouser'"
      ]
     },
     "execution_count": 60,
     "metadata": {},
     "output_type": "execute_result"
    }
   ],
   "source": [
    "label_map[argmax]"
   ]
  },
  {
   "cell_type": "code",
   "execution_count": 61,
   "id": "af6f3ccc-7008-49cc-a7fb-479282e08707",
   "metadata": {},
   "outputs": [],
   "source": [
    "def predict(data,model,label_map,device,idx=0):\n",
    "  images,labels=data\n",
    "  img=images[idx]\n",
    "  labels=labels[idx] \n",
    "\n",
    "  plt.imshow(img.squeeze(),cmap='gray')\n",
    "  logit=model(img.unsqueeze(dim=1).to(config.DEVICE))\n",
    "  pred_prob=F.softmax(logit,dim=1)\n",
    "  argmax=(torch.argmax(pred_prob)).item()\n",
    "  predicted_label=label_map[argmax]\n",
    "  actual_label =label_map[label.item()]\n",
    "\n",
    "  plt.title(f\"actual: {actual_label}| predicted : {predicted_label}\")\n",
    "  plt.axis(\"off\")\n",
    "  return predicted_label, actual_label\n"
   ]
  },
  {
   "cell_type": "code",
   "execution_count": 62,
   "id": "a5984b6c-3869-4f95-9f77-d50122852064",
   "metadata": {},
   "outputs": [
    {
     "data": {
      "text/plain": [
       "('Trouser', 'Trouser')"
      ]
     },
     "execution_count": 62,
     "metadata": {},
     "output_type": "execute_result"
    },
    {
     "data": {
      "image/png": "[encoded data removed]",
      "text/plain": [
       "<Figure size 640x480 with 1 Axes>"
      ]
     },
     "metadata": {},
     "output_type": "display_data"
    }
   ],
   "source": [
    "predict(data,model,label_map,config.DEVICE,idx=2) "
   ]
  },
  {
   "cell_type": "code",
   "execution_count": null,
   "id": "90127513-f6b3-4a89-8832-d03b5a955f45",
   "metadata": {},
   "outputs": [],
   "source": []
  }
 ],
 "metadata": {
  "kernelspec": {
   "display_name": "Python 3 (ipykernel)",
   "language": "python",
   "name": "python3"
  },
  "language_info": {
   "codemirror_mode": {
    "name": "ipython",
    "version": 3
   },
   "file_extension": ".py",
   "mimetype": "text/x-python",
   "name": "python",
   "nbconvert_exporter": "python",
   "pygments_lexer": "ipython3",
   "version": "3.12.2"
  }
 },
 "nbformat": 4,
 "nbformat_minor": 5
}
