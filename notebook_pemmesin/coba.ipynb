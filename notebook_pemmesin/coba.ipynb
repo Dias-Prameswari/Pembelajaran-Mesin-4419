{
 "cells": [
  {
   "cell_type": "code",
   "execution_count": 1,
   "metadata": {},
   "outputs": [
    {
     "name": "stdout",
     "output_type": "stream",
     "text": [
      "berikut ini adalah 5 negara dengan pendidikan terbaik di dunia adalah korea selatan, jepang, singapura, hong kong dan finlandia.\n"
     ]
    }
   ],
   "source": [
    "# case folding : lowercase. \n",
    "# lowercase adalah merubah format teks yang seharusnya ada huruf kapital diubah menjadi huruf kecil semua.\n",
    "# contoh :\n",
    "kalimat = \"Berikut ini adalah 5 negara dengan pendidikan terbaik di dunia adalah Korea Selatan, Jepang, Singapura, Hong Kong dan Finlandia.\"\n",
    "lowercase = kalimat.lower()\n",
    "print(lowercase)\n",
    "\n"
   ]
  },
  {
   "cell_type": "code",
   "execution_count": 2,
   "metadata": {},
   "outputs": [
    {
     "name": "stdout",
     "output_type": "stream",
     "text": [
      "Berikut ini adalah  negara dengan pendidikan terbaik di dunia adalah Korea Selatan, Jepang, Singapura, Hong Kong dan Finlandia.\n"
     ]
    }
   ],
   "source": [
    "# case folding : removing number\n",
    "# removing number adalah menghapus karakter angka pada kalimat yang sudah ada\n",
    "# contoh : \n",
    "import re\n",
    "kalimat = \"Berikut ini adalah 5 negara dengan pendidikan terbaik di dunia adalah Korea Selatan, Jepang, Singapura, Hong Kong dan Finlandia.\"\n",
    "hasil = re.sub(r\"\\d+\", \"\", kalimat)\n",
    "print(hasil)\n",
    "  "
   ]
  },
  {
   "cell_type": "code",
   "execution_count": 3,
   "metadata": {},
   "outputs": [
    {
     "name": "stdout",
     "output_type": "stream",
     "text": [
      "ini adalah contoh kalimat dengan tanda baca\n"
     ]
    }
   ],
   "source": [
    "# case folding : removing punctuation \n",
    "# punctuation adalah menghapus karakter tanda baca pada kalimat yang ada\n",
    "# contoh : \n",
    "import string\n",
    "kalimat = \"ini &adalah [contoh] kalimat? {dengan} tanda. baca?!!\"\n",
    "hasil = kalimat.translate(str.maketrans(\"\", \"\", string.punctuation))\n",
    "print(hasil)\n"
   ]
  },
  {
   "cell_type": "code",
   "execution_count": 4,
   "metadata": {},
   "outputs": [
    {
     "name": "stdout",
     "output_type": "stream",
     "text": [
      "ini kalimat contoh\n"
     ]
    }
   ],
   "source": [
    "# case folding : removing whitespace\n",
    "# whitespace adalah menghapus karakter kosong atau menghapus spasi pada kalimat\n",
    "# contoh : \n",
    "kalimat = \"\\t ini kalimat contoh \\t     \\n\"\n",
    "hasil = kalimat.strip()\n",
    "print(hasil)\n"
   ]
  },
  {
   "cell_type": "code",
   "execution_count": 5,
   "metadata": {},
   "outputs": [
    {
     "name": "stdout",
     "output_type": "stream",
     "text": [
      "['rumah', 'idaman', 'adalah', 'rumah', 'yang', 'bersih']\n"
     ]
    }
   ],
   "source": [
    "# tokenizing : proses pemisahan teks menjadi potongan - potongan yang disebut sebagai token untuk kemudian di analisa. \n",
    "# separating sentences with spilt() method \n",
    "# fungsi split() adalah memisahkan string ke dalam list dengan spasi sebagai pemisah, jika tidak ditentukan pemisahnya.\n",
    "# contoh : \n",
    "kalimat = \"rumah idaman adalah rumah yang bersih\"\n",
    "pisah = kalimat.split()\n",
    "print(pisah)\n"
   ]
  }
 ],
 "metadata": {
  "kernelspec": {
   "display_name": "Python 3 (ipykernel)",
   "language": "python",
   "name": "python3"
  },
  "language_info": {
   "codemirror_mode": {
    "name": "ipython",
    "version": 3
   },
   "file_extension": ".py",
   "mimetype": "text/x-python",
   "name": "python",
   "nbconvert_exporter": "python",
   "pygments_lexer": "ipython3",
   "version": "3.12.2"
  }
 },
 "nbformat": 4,
 "nbformat_minor": 4
}
