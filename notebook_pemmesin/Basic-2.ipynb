{
 "cells": [
  {
   "cell_type": "code",
   "execution_count": 2,
   "id": "1d3c87b9-4261-471f-8879-2640b73b09d9",
   "metadata": {},
   "outputs": [
    {
     "name": "stdout",
     "output_type": "stream",
     "text": [
      "[1, 2, 3, 4]\n",
      "<class 'list'>\n",
      "2001428029824\n",
      "\n",
      "\n",
      "[0, 2, 3, 4]\n",
      "2001428029824\n",
      "\n",
      "\n",
      "20\n",
      "140711532545416\n",
      "\n",
      "\n",
      "30\n",
      "140711532545736\n"
     ]
    }
   ],
   "source": [
    "# mutable = list, dictionary\n",
    "a=[1,2,3,4]\n",
    "print(a)\n",
    "print(type(a))\n",
    "print(id(a))\n",
    "print(\"\\n\")\n",
    "a[0]=0\n",
    "print(a)\n",
    "print(id(a))\n",
    "print(\"\\n\")\n",
    "# immutable = string, bilangan & tuple\n",
    "# id = menunjukkan lokasi variabel a dimana\n",
    "a=20\n",
    "print(a)\n",
    "print(id(a))\n",
    "print(\"\\n\")\n",
    "a=30\n",
    "print(a)\n",
    "print(id(a))\n"
   ]
  },
  {
   "cell_type": "code",
   "execution_count": 3,
   "id": "38a2b8be-a27f-4742-ac49-0185c9dad126",
   "metadata": {},
   "outputs": [
    {
     "name": "stdout",
     "output_type": "stream",
     "text": [
      "False\n",
      "\n",
      "\n",
      "False\n",
      "\n",
      "\n",
      "True\n",
      "\n",
      "\n",
      "True\n",
      "\n",
      "\n",
      "False\n",
      "\n",
      "\n",
      "True\n"
     ]
    }
   ],
   "source": [
    "# operator relasional\n",
    "# mendeteksi apakah nilai integer adalah kurang dari 100 atau lebih besar \n",
    "# atau sama dengan 100, kita dapat menggunakan operator relasional. \n",
    "# Kita akan membuat program yang membaca input integer dan kemudian menggunakan \n",
    "# operator relasional untuk memeriksa apakah nilai tersebut >= 100.\n",
    "x = 55\n",
    "y = x >= 100\n",
    "print(y)\n",
    "print(\"\\n\")\n",
    "x = 99\n",
    "y = x >= 100\n",
    "print(y) \n",
    "print(\"\\n\")\n",
    "x = 100\n",
    "y = x >= 100\n",
    "print(y) \n",
    "print(\"\\n\")\n",
    "x = 101\n",
    "y = x >= 100\n",
    "print(y)\n",
    "print(\"\\n\")\n",
    "x = -5\n",
    "y = x >= 100\n",
    "print(y)\n",
    "print(\"\\n\")\n",
    "x = 123\n",
    "y = x >= 100\n",
    "print(y)"
   ]
  },
  {
   "cell_type": "code",
   "execution_count": 5,
   "id": "1b7cef4a-6e3f-44ea-b19f-cdf362931451",
   "metadata": {},
   "outputs": [
    {
     "name": "stdout",
     "output_type": "stream",
     "text": [
      "\n",
      "\n",
      "Gagal\n",
      "\n",
      "\n"
     ]
    },
    {
     "name": "stdin",
     "output_type": "stream",
     "text": [
      "Masukan bilangan bulat:  4\n"
     ]
    },
    {
     "name": "stdout",
     "output_type": "stream",
     "text": [
      "genap\n",
      "\n",
      "\n",
      "Masukan nilai koordinat\n"
     ]
    },
    {
     "name": "stdin",
     "output_type": "stream",
     "text": [
      "Nilai x:  6\n",
      "Nilai y:  8\n"
     ]
    },
    {
     "name": "stdout",
     "output_type": "stream",
     "text": [
      "Koordinat (6,8) berada pada Kuadran I\n",
      "\n",
      "\n"
     ]
    },
    {
     "name": "stdin",
     "output_type": "stream",
     "text": [
      "First Number :  2\n",
      "Second Number :  3\n",
      "Third Number :  4\n"
     ]
    },
    {
     "name": "stdout",
     "output_type": "stream",
     "text": [
      "The largest number is:  4\n",
      "\n",
      "\n"
     ]
    }
   ],
   "source": [
    "# struktur pemilihan \n",
    "# Berbeda dengan bahasa pemrograman lainnya, Python hanya memiliki satu \n",
    "# statement untuk melakukan proses pemilihan, yaitu dengan menggunakan if. \n",
    "# Untuk mempermudah pembahasan tentang statement if, pembahasan akan dibagi menjadi tiga \n",
    "# kelompok :\n",
    "\n",
    "#  - Statement if untuk satu kasus\n",
    "# Bentuk umum penggunaan perintah if untuk satu kasus dalam Python adalah :\n",
    "# if kondisi:\n",
    "#     statement1\n",
    "#     statement2\n",
    "#     ...\n",
    "# Pada bentuk diatas, statement1, statement2 dan seterusnya hanya akan dieksekusi \n",
    "# jika kondisi yang didefinisikan dalam perintah If terpenuhi (bernilai True). \n",
    "# Jika kondisi bernilai False, statement tersebut akan diabaikan oleh program.\n",
    "# tidak tercetak : \n",
    "a = 5\n",
    "b = 6\n",
    "\n",
    "if a==b:\n",
    "    print(\"oke\")\n",
    "    print(\"berhasil\")\n",
    "    print(\"Gagal\")\n",
    "print(\"\\n\")\n",
    "#  - Statement if untuk dua kasus\n",
    "# Untuk pemilihan yang mengandung dua kasus, bentuk umum yang digunakan adalah : \n",
    "# if kondisi :\n",
    "#     statement1\n",
    "#     statement2\n",
    "#     ...\n",
    "# else \n",
    "#     statement_alternatif1\n",
    "#     statement_alternatif2\n",
    "#     ...\n",
    "# Pada bentuk ini, jika kondisi bernilai True makan statement selanjutnya yang \n",
    "# akan dieksekusi oleh program adalah statement1, stetement 2 dan seterusnya. Tapi jika kondisi \n",
    "# bernilai False, maka program akan mengeksekusi statement yang berada pada bagian else, \n",
    "# yaitu statement_alternatif1, statement_alternatif2 dan seterusnya. \n",
    "# tercetak gagal : \n",
    "a = 5\n",
    "b = 6\n",
    "if a==b:\n",
    "    print(\"oke\")\n",
    "    print(\"berhasil\")\n",
    "else:\n",
    "    print(\"Gagal\")\n",
    "print(\"\\n\")\n",
    "# latihan 1 =\n",
    "bil = int(input(\"Masukan bilangan bulat: \"))\n",
    "\n",
    "if(bil%2 == 0):\n",
    "    print(\"genap\")\n",
    "else:\n",
    "    print(\"ganjil\")\n",
    "#  - Statement if untuk tiga kasus\n",
    "# Struktur pemilihan jenis ini merupakan bentuk yang paling kompleks jika dibandingkan \n",
    "# dengan kedua jenis yang sudah di bahas diatas. Dalam struktur ini, ada beberapa kondisi \n",
    "# yang harus diperiksa oleh program. Bentuk umum penggunaan perintah if untuk tiga kasus atau \n",
    "# lebih adalah :\n",
    "# if kondisi1:\n",
    "#     statement1a\n",
    "#     statement1b\n",
    "#     ...\n",
    "# elif kondisi2:\n",
    "#     statement2a\n",
    "#     statement2b\n",
    "#     ...\n",
    "# else:\n",
    "#     statement_alternatif1\n",
    "#     statement_alternatif2\n",
    "#     ...\n",
    "# latihan 2 = \n",
    "print(\"\\n\")\n",
    "print(\"Masukan nilai koordinat\")\n",
    "x = int(input(\"Nilai x: \"))\n",
    "y = int(input(\"Nilai y: \"))\n",
    "\n",
    "if x>0 and y>0:\n",
    "    print(\"Koordinat (\"+ str(x) + \",\"+ str(y) +\") berada pada Kuadran I\" )\n",
    "elif x<0 and y>0:\n",
    "    print(\"Koordinat (\"+ str(x) + \",\"+ str(y) +\") berada pada Kuadran II\" )    \n",
    "elif x<0 and y<0:\n",
    "    print(\"Koordinat (\"+ str(x) + \",\"+ str(y) +\") berada pada Kuadran III\" )\n",
    "elif x>0 and y<0:\n",
    "    print(\"Koordinat (\"+ str(x) + \",\"+ str(y) +\") berada pada Kuadran IV\" )\n",
    "else:\n",
    "    pass\n",
    "print(\"\\n\")\n",
    "# latihan 3 = \n",
    "num1 = int(input(\"First Number : \"))\n",
    "num2 = int(input(\"Second Number : \"))\n",
    "num3 = int(input(\"Third Number : \"))\n",
    "\n",
    "#set number1 sebagai yang terbesar\n",
    "largestNum = num1\n",
    "\n",
    "#deteksi apakah num2 > num1\n",
    "if num2 > largestNum:\n",
    "    largestNum = num2\n",
    "\n",
    "#deteksi apakah num3 > num2\n",
    "if num3 > largestNum:\n",
    "    largestNum = num3\n",
    "\n",
    "print(\"The largest number is: \", largestNum)\n",
    "print(\"\\n\")\n",
    "\n",
    "# latihan "
   ]
  },
  {
   "cell_type": "code",
   "execution_count": null,
   "id": "cc7965d7-ff1d-4df8-8d79-c5cf5240fd56",
   "metadata": {},
   "outputs": [],
   "source": []
  }
 ],
 "metadata": {
  "kernelspec": {
   "display_name": "Python 3 (ipykernel)",
   "language": "python",
   "name": "python3"
  },
  "language_info": {
   "codemirror_mode": {
    "name": "ipython",
    "version": 3
   },
   "file_extension": ".py",
   "mimetype": "text/x-python",
   "name": "python",
   "nbconvert_exporter": "python",
   "pygments_lexer": "ipython3",
   "version": "3.11.7"
  }
 },
 "nbformat": 4,
 "nbformat_minor": 5
}
